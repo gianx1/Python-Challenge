{
 "cells": [
  {
   "cell_type": "code",
   "execution_count": 10,
   "metadata": {},
   "outputs": [
    {
     "name": "stdout",
     "output_type": "stream",
     "text": [
      "Financial Analysis\n",
      "----------------------------\n",
      "Total Months: 86\n",
      "Total: $38382578\n",
      "Average Change: $-2315.12\n",
      "Greatest Increase in Profits: Feb-2012 ($1926159)\n",
      "Greatest Decrease in Profits: Sep-2013 ($-2196167)\n"
     ]
    },
    {
     "ename": "AttributeError",
     "evalue": "'str' object has no attribute 'txt'",
     "output_type": "error",
     "traceback": [
      "\u001b[1;31m---------------------------------------------------------------------------\u001b[0m",
      "\u001b[1;31mAttributeError\u001b[0m                            Traceback (most recent call last)",
      "\u001b[1;32m<ipython-input-10-317254e1f3ba>\u001b[0m in \u001b[0;36m<module>\u001b[1;34m\u001b[0m\n\u001b[0;32m     47\u001b[0m \u001b[0mdata_output\u001b[0m \u001b[1;33m=\u001b[0m \u001b[0mos\u001b[0m\u001b[1;33m.\u001b[0m\u001b[0mpath\u001b[0m\u001b[1;33m.\u001b[0m\u001b[0mjoin\u001b[0m\u001b[1;33m(\u001b[0m\u001b[1;34m\"budget_data.csv\"\u001b[0m\u001b[1;33m)\u001b[0m\u001b[1;33m\u001b[0m\u001b[1;33m\u001b[0m\u001b[0m\n\u001b[0;32m     48\u001b[0m \u001b[0moutput\u001b[0m \u001b[1;33m=\u001b[0m \u001b[0mopen\u001b[0m\u001b[1;33m(\u001b[0m\u001b[1;34m\"data_output.txt\"\u001b[0m\u001b[1;33m,\u001b[0m \u001b[1;34m\"w\"\u001b[0m\u001b[1;33m)\u001b[0m\u001b[1;33m\u001b[0m\u001b[1;33m\u001b[0m\u001b[0m\n\u001b[1;32m---> 49\u001b[1;33m \u001b[1;32mwith\u001b[0m \u001b[0mopen\u001b[0m\u001b[1;33m(\u001b[0m\u001b[0mdata_output\u001b[0m\u001b[1;33m.\u001b[0m\u001b[0mtxt\u001b[0m\u001b[1;33m,\u001b[0m \u001b[1;34m\"w\"\u001b[0m\u001b[1;33m)\u001b[0m \u001b[1;32mas\u001b[0m \u001b[0mfile\u001b[0m\u001b[1;33m:\u001b[0m\u001b[1;33m\u001b[0m\u001b[1;33m\u001b[0m\u001b[0m\n\u001b[0m\u001b[0;32m     50\u001b[0m     \u001b[0mwriter\u001b[0m \u001b[1;33m=\u001b[0m \u001b[0mcsv\u001b[0m\u001b[1;33m.\u001b[0m\u001b[0mwriter\u001b[0m\u001b[1;33m(\u001b[0m\u001b[0mcsvfile\u001b[0m\u001b[1;33m)\u001b[0m\u001b[1;33m\u001b[0m\u001b[1;33m\u001b[0m\u001b[0m\n\u001b[0;32m     51\u001b[0m     \u001b[0mwriter\u001b[0m\u001b[1;33m.\u001b[0m\u001b[0mwriterow\u001b[0m\u001b[1;33m(\u001b[0m\u001b[1;34m\"Financial Analysis\"\u001b[0m\u001b[1;33m)\u001b[0m\u001b[1;33m\u001b[0m\u001b[1;33m\u001b[0m\u001b[0m\n",
      "\u001b[1;31mAttributeError\u001b[0m: 'str' object has no attribute 'txt'"
     ]
    }
   ],
   "source": [
    "#import os module and csv file \n",
    "import os\n",
    "import csv\n",
    "\n",
    "budget_data_csv_path = (\"budget_data.csv\")\n",
    "\n",
    "months = []\n",
    "net_total = []\n",
    "monthly_change = []\n",
    "\n",
    "\n",
    "with open (budget_data_csv_path) as csvfile: \n",
    "    csvreader = csv.reader(csvfile, delimiter=\",\")\n",
    "    first_row = next(csvreader)\n",
    "    \n",
    "    \n",
    "    # append to the lists\n",
    "    for row in csvreader:\n",
    "        months.append(row[0])\n",
    "        net_total.append(int(row[1]))\n",
    "        month = len(months)\n",
    "        total = sum(net_total)       \n",
    "        \n",
    "  \n",
    "    #create for loop to get changes in profits/losses \n",
    "    for i in range(len(net_total)-1):\n",
    "        monthly_change.append(net_total[i+1]-net_total[i])\n",
    "        average_change = sum(monthly_change)/len(monthly_change)\n",
    "    \n",
    "        \n",
    "# find the greatest increase/decrease in profits/losses and the dates to go along with above\n",
    "greatest_increase = max(monthly_change)\n",
    "greatest_decrease = min(monthly_change)\n",
    "\n",
    "\n",
    "\n",
    "# Print Financial Analysis results\n",
    "\n",
    "print(\"Financial Analysis\")\n",
    "print(\"----------------------------\")\n",
    "print(\"Total Months: \"  + (str(month)))\n",
    "print(\"Total: \" + \"$\" + str(total))\n",
    "print(\"Average Change: \" + \"$\" + str(round(average_change, 2)))\n",
    "print(\"Greatest Increase in Profits: \" + str((months[monthly_change.index(greatest_increase)+1])) + \" (\" + \"$\" + str((greatest_increase)) + \")\")\n",
    "print(\"Greatest Decrease in Profits: \" + str((months[monthly_change.index(greatest_decrease)+1])) + \" (\" + \"$\" + str((greatest_decrease)) + \")\")\n",
    "\n",
    "data_output = os.path.join(\"budget_data.csv\")\n",
    "output = open(\"data_output.txt\", \"w\")\n",
    "with open(data_output.txt, \"w\") as file:\n",
    "    writer = csv.writer(csvfile)\n",
    "    writer.writerow(\"Financial Analysis\")"
   ]
  },
  {
   "cell_type": "code",
   "execution_count": null,
   "metadata": {},
   "outputs": [],
   "source": []
  }
 ],
 "metadata": {
  "kernelspec": {
   "display_name": "Python 3",
   "language": "python",
   "name": "python3"
  },
  "language_info": {
   "codemirror_mode": {
    "name": "ipython",
    "version": 3
   },
   "file_extension": ".py",
   "mimetype": "text/x-python",
   "name": "python",
   "nbconvert_exporter": "python",
   "pygments_lexer": "ipython3",
   "version": "3.7.6"
  }
 },
 "nbformat": 4,
 "nbformat_minor": 4
}
