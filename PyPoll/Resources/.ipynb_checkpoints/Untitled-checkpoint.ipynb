{
 "cells": [
  {
   "cell_type": "code",
   "execution_count": 7,
   "metadata": {},
   "outputs": [
    {
     "name": "stdout",
     "output_type": "stream",
     "text": [
      "Election Results\n",
      "-------------------------\n",
      "Total Votes: 3521001\n",
      "-------------------------\n",
      "Khan: 63.0 % (2218231)\n",
      "Correy: 20.0 % (704200)\n",
      "Li: 14.0 % (492940)\n",
      "O'Tooley: 3.0 % (105630)\n",
      "-------------------------\n",
      "Winner: Khan\n",
      "-------------------------\n"
     ]
    }
   ],
   "source": [
    "#import os module and csv file \n",
    "import os\n",
    "import csv\n",
    "\n",
    "\n",
    "election_data_csv_path = os.path.join(\"election_data.csv\")\n",
    "\n",
    "candidates = []\n",
    "percent_of_candidates = []\n",
    "total_num_votes_per_candidate = []\n",
    "\n",
    "\n",
    "with open(election_data_csv_path) as csvfile:\n",
    "    csvreader = csv.reader(csvfile, delimiter=\",\")\n",
    "    first_row = next(csvreader)\n",
    "   \n",
    "    \n",
    "    # get total number of votes *which is just the total number of rows*\n",
    "    for row in csvreader:\n",
    " \n",
    "    # list of candidates who received votes\n",
    "    \n",
    "        if row[2] not in candidates:\n",
    "            candidates.append(row[2])\n",
    "            total_num_votes_per_candidate.append(1)\n",
    "        else:\n",
    "            cand = candidates.index(row[2])\n",
    "            total_num_votes_per_candidate[cand] = total_num_votes_per_candidate[cand] + 1\n",
    "    \n",
    "    total_votes = sum(total_num_votes_per_candidate)\n",
    "    \n",
    "    \n",
    "    max_votes = max(total_num_votes_per_candidate)\n",
    "\n",
    "    index_winner =  total_num_votes_per_candidate.index(max_votes)\n",
    "\n",
    "    winner = candidates[index_winner]\n",
    "    \n",
    "#results\n",
    "print(\"Election Results\")\n",
    "print(\"-------------------------\")\n",
    "print(\"Total Votes: \" + str(total_votes))\n",
    "print(\"-------------------------\") \n",
    "for i in range(len(candidates)):\n",
    "        print(f\"{candidates[i]}: {str(round(total_num_votes_per_candidate[i]/total_votes * 100, 4))} % ({total_num_votes_per_candidate[i]})\") \n",
    "print(\"-------------------------\")\n",
    "print(\"Winner: \" + str(winner))\n",
    "print(\"-------------------------\")        "
   ]
  }
 ],
 "metadata": {
  "kernelspec": {
   "display_name": "Python 3",
   "language": "python",
   "name": "python3"
  },
  "language_info": {
   "codemirror_mode": {
    "name": "ipython",
    "version": 3
   },
   "file_extension": ".py",
   "mimetype": "text/x-python",
   "name": "python",
   "nbconvert_exporter": "python",
   "pygments_lexer": "ipython3",
   "version": "3.7.6"
  }
 },
 "nbformat": 4,
 "nbformat_minor": 4
}
