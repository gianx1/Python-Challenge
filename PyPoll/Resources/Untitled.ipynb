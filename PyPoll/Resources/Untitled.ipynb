{
 "cells": [
  {
   "cell_type": "code",
   "execution_count": 28,
   "metadata": {},
   "outputs": [
    {
     "name": "stdout",
     "output_type": "stream",
     "text": [
      "['Khan', 'Correy', 'Li', \"O'Tooley\"]\n",
      "[2218231, 704200, 492940, 105630]\n",
      "3521001\n"
     ]
    }
   ],
   "source": [
    "#import os module and csv file \n",
    "import os\n",
    "import csv\n",
    "\n",
    "\n",
    "election_data_csv_path = os.path.join(\"election_data.csv\")\n",
    "\n",
    "candidates = []\n",
    "percent_of_candidates = []\n",
    "total_num_votes_per_candidate = []\n",
    "\n",
    "\n",
    "with open(election_data_csv_path) as csvfile:\n",
    "    csvreader = csv.reader(csvfile, delimiter=\",\")\n",
    "    first_row = next(csvreader)\n",
    "   \n",
    "    \n",
    "    # get total number of votes *which is just the total number of rows*\n",
    "    for row in csvreader:\n",
    " \n",
    "    # list of candidates who received votes\n",
    "    \n",
    "        if row[2] not in candidates:\n",
    "            candidates.append(row[2])\n",
    "            total_num_votes_per_candidate.append(1)\n",
    "        else:\n",
    "            cand = candidates.index(row[2])\n",
    "            total_num_votes_per_candidate[cand] = total_num_votes_per_candidate[cand] + 1\n",
    "    print(candidates)\n",
    "    print(total_num_votes_per_candidate)\n",
    "        \n",
    "    total_votes = sum(total_num_votes_per_candidate)\n",
    "    print(total_votes)"
   ]
  },
  {
   "cell_type": "code",
   "execution_count": 29,
   "metadata": {},
   "outputs": [
    {
     "name": "stdout",
     "output_type": "stream",
     "text": [
      "2218231\n",
      "0\n",
      "Khan\n"
     ]
    }
   ],
   "source": [
    "max_votes = max(total_num_votes_per_candidate)\n",
    "print(max_votes)\n",
    "index_winner =  total_num_votes_per_candidate.index(max_votes)\n",
    "print(index_winner)\n",
    "winner = candidates[index_winner]\n",
    "print(winner)"
   ]
  },
  {
   "cell_type": "code",
   "execution_count": 61,
   "metadata": {},
   "outputs": [
    {
     "name": "stdout",
     "output_type": "stream",
     "text": [
      "Khan: 63.0 % (2218231)\n",
      "Correy: 20.0 % (704200)\n",
      "Li: 14.0 % (492940)\n",
      "O'Tooley: 3.0 % (105630)\n"
     ]
    }
   ],
   "source": [
    "for i in range(len(candidates)):\n",
    "    print(f\"{candidates[i]}: {str(round(total_num_votes_per_candidate[i]/total_votes * 100, 4))} % ({total_num_votes_per_candidate[i]})\") "
   ]
  },
  {
   "cell_type": "code",
   "execution_count": null,
   "metadata": {},
   "outputs": [],
   "source": [
    "# determine percentages for candidates\n",
    "    for vote in total_num_votes_per_candidate:\n",
    "        vote_percent = (vote/total_votes) * 100\n",
    "        vote_percent = (vote_percent)\n",
    "        percent_of_candidates.append(vote_percent)\n",
    "        \n",
    "    # find the winner\n",
    "    winning_candidate = max(total_num_votes_per_candidate)\n",
    "    cand = total_num_votes_per_candidate.index(winning_candidate)\n",
    "    winner = candidates[cand]\n",
    "    \n",
    "    \n",
    "    \n",
    "    \n",
    "    \n",
    "print(\"Election Results\")\n",
    "print(\"-------------------------\")\n",
    "print(\"Total Votes: \" + str(total_votes))\n",
    "print(\"-------------------------\")\n",
    "for g in range(len(candidates)):\n",
    "    print(f\"{candidates[g]} {str(percent_of_candidates[g])} ({str(total_num_votes_per_candidate[g])})\")\n",
    "print(\"-------------------------\")\n",
    "print(\"Winner: \" + str(winner))\n",
    "print(\"-------------------------\")"
   ]
  }
 ],
 "metadata": {
  "kernelspec": {
   "display_name": "Python 3",
   "language": "python",
   "name": "python3"
  },
  "language_info": {
   "codemirror_mode": {
    "name": "ipython",
    "version": 3
   },
   "file_extension": ".py",
   "mimetype": "text/x-python",
   "name": "python",
   "nbconvert_exporter": "python",
   "pygments_lexer": "ipython3",
   "version": "3.7.6"
  }
 },
 "nbformat": 4,
 "nbformat_minor": 4
}
